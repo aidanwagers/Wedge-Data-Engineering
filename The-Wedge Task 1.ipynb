{
 "cells": [
  {
   "cell_type": "markdown",
   "id": "c96ce747",
   "metadata": {},
   "source": [
    "# Preparation"
   ]
  },
  {
   "cell_type": "code",
   "execution_count": 2,
   "id": "827d8fce",
   "metadata": {},
   "outputs": [],
   "source": [
    "import pandas as pd\n",
    "from zipfile import ZipFile\n",
    "import os\n",
    "import csv\n",
    "import janitor\n",
    "import pandas_gbq\n",
    "import numpy as np\n",
    "import re\n",
    "import io\n",
    "from google.cloud import bigquery\n",
    "from google.oauth2 import service_account"
   ]
  },
  {
   "cell_type": "markdown",
   "id": "8915f4e1",
   "metadata": {},
   "source": [
    "# Task 1: The Upload"
   ]
  },
  {
   "cell_type": "markdown",
   "id": "30ca93b5",
   "metadata": {},
   "source": [
    "In the below portion of this notebook the wedge transaction files are read into dataframes, cleaned, and uploaded to Google Big Query. In practice, the \"placeholder\" in service_file and project ID were my GBQ instance and the proper file. "
   ]
  },
  {
   "cell_type": "code",
   "execution_count": null,
   "id": "a894f35a",
   "metadata": {},
   "outputs": [],
   "source": [
    "output_dfs = []\n",
    "\n",
    "service_path = \"\\\\Users\\\\aidan\\\\OneDrive\\\\Desktop\\\\MSBA_F22\\\\ADA\\\\\"\n",
    "service_file = 'placeholder-9bb4f6c64d82.json'  \n",
    "gbq_proj_id = 'placeholder' \n",
    "\n",
    "private_key =service_path + service_file\n",
    "credentials = service_account.Credentials.from_service_account_file(service_path + service_file)\n",
    "client = bigquery.Client(credentials = credentials, project=gbq_proj_id)\n",
    "\n",
    "table_name = 'Wedge_2022'\n",
    "\n",
    "dataset_ = 'Wedge_Wagers'"
   ]
  },
  {
   "cell_type": "markdown",
   "id": "60d1d15d",
   "metadata": {},
   "source": [
    "Now, I read in the uncleaned zip files and establish a list containing the headers."
   ]
  },
  {
   "cell_type": "code",
   "execution_count": null,
   "id": "6cb6bb13",
   "metadata": {},
   "outputs": [],
   "source": [
    "zipperDown = os.listdir(\"\\\\Users\\\\aidan\\\\OneDrive\\\\Desktop\\\\MSBA_F22\\\\ADA\\\\DBs\\\\WedgeZipOfZips\")\n",
    "head_insert = \"\"\"datetime\tregister_no\temp_no\ttrans_no\tupc\tdescription\ttrans_type\ttrans_subtype\ttrans_status\tdepartment\tquantity\tScale\tcost\tunitPrice\ttotal\tregPrice\taltPrice\ttax\ttaxexempt\tfoodstamp\twicable\tdiscount\tmemDiscount\tdiscountable\tdiscounttype\tvoided\tpercentDiscount\tItemQtty\tvolDiscType\tvolume\tVolSpecial\tmixMatch\tmatched\tmemType\tstaff\tnumflag\titemstatus\ttenderstatus\tcharflag\tvarflag\tbatchHeaderID\tlocal\torganic\tdisplay\treceipt\tcard_no\tstore\tbranch\tmatch_id\ttrans_id\"\"\".split()"
   ]
  },
  {
   "cell_type": "markdown",
   "id": "4d639acb",
   "metadata": {},
   "source": [
    "I had an odd issue where my column types were not complying, so I was forced to manually set them. Knowing what I know now, I would have set the datatypes on lists of columns to make this code much more succinct."
   ]
  },
  {
   "cell_type": "code",
   "execution_count": 5,
   "id": "1c1c9b91",
   "metadata": {
    "collapsed": true
   },
   "outputs": [
    {
     "name": "stdout",
     "output_type": "stream",
     "text": [
      "bigquerywagers:Wedge_B_level\n",
      "bigquerywagers:Wedge_Wagers\n",
      "bigquerywagers:Wedge_clean\n",
      "bigquerywagers:dram_shop\n",
      "bigquerywagers:umt_msba_aw\n",
      "Completed Cleaning. Please god work.\n"
     ]
    },
    {
     "name": "stderr",
     "output_type": "stream",
     "text": [
      "100%|██████████| 1/1 [00:00<?, ?it/s]\n"
     ]
    },
    {
     "name": "stdout",
     "output_type": "stream",
     "text": [
      "Completed Cleaning. Please god work.\n"
     ]
    },
    {
     "name": "stderr",
     "output_type": "stream",
     "text": [
      "100%|██████████| 1/1 [00:00<?, ?it/s]\n"
     ]
    },
    {
     "name": "stdout",
     "output_type": "stream",
     "text": [
      "Completed Cleaning. Please god work.\n"
     ]
    },
    {
     "name": "stderr",
     "output_type": "stream",
     "text": [
      "100%|██████████| 1/1 [00:00<?, ?it/s]\n",
      "C:\\Users\\aidan\\AppData\\Local\\Temp\\ipykernel_6780\\1994732405.py:34: DtypeWarning: Columns (43) have mixed types. Specify dtype option on import or set low_memory=False.\n",
      "  df = pd.read_csv(currentFile, sep = sniff.delimiter, names = head_insert, encoding = \"utf-8\")\n"
     ]
    },
    {
     "name": "stdout",
     "output_type": "stream",
     "text": [
      "Completed Cleaning. Please god work.\n"
     ]
    },
    {
     "name": "stderr",
     "output_type": "stream",
     "text": [
      "100%|██████████| 1/1 [00:00<00:00, 985.04it/s]\n"
     ]
    },
    {
     "name": "stdout",
     "output_type": "stream",
     "text": [
      "Completed Cleaning. Please god work.\n"
     ]
    },
    {
     "name": "stderr",
     "output_type": "stream",
     "text": [
      "100%|██████████| 1/1 [00:00<?, ?it/s]\n"
     ]
    },
    {
     "name": "stdout",
     "output_type": "stream",
     "text": [
      "Completed Cleaning. Please god work.\n"
     ]
    },
    {
     "name": "stderr",
     "output_type": "stream",
     "text": [
      "100%|██████████| 1/1 [00:00<?, ?it/s]\n"
     ]
    },
    {
     "name": "stdout",
     "output_type": "stream",
     "text": [
      "Completed Cleaning. Please god work.\n"
     ]
    },
    {
     "name": "stderr",
     "output_type": "stream",
     "text": [
      "100%|██████████| 1/1 [00:00<?, ?it/s]\n"
     ]
    },
    {
     "name": "stdout",
     "output_type": "stream",
     "text": [
      "Completed Cleaning. Please god work.\n"
     ]
    },
    {
     "name": "stderr",
     "output_type": "stream",
     "text": [
      "100%|██████████| 1/1 [00:00<?, ?it/s]\n"
     ]
    },
    {
     "name": "stdout",
     "output_type": "stream",
     "text": [
      "Completed Cleaning. Please god work.\n"
     ]
    },
    {
     "name": "stderr",
     "output_type": "stream",
     "text": [
      "100%|██████████| 1/1 [00:00<?, ?it/s]\n"
     ]
    },
    {
     "name": "stdout",
     "output_type": "stream",
     "text": [
      "Completed Cleaning. Please god work.\n"
     ]
    },
    {
     "name": "stderr",
     "output_type": "stream",
     "text": [
      "100%|██████████| 1/1 [00:00<?, ?it/s]\n"
     ]
    },
    {
     "name": "stdout",
     "output_type": "stream",
     "text": [
      "Completed Cleaning. Please god work.\n"
     ]
    },
    {
     "name": "stderr",
     "output_type": "stream",
     "text": [
      "100%|██████████| 1/1 [00:00<?, ?it/s]\n",
      "C:\\Users\\aidan\\AppData\\Local\\Temp\\ipykernel_6780\\1994732405.py:34: DtypeWarning: Columns (42) have mixed types. Specify dtype option on import or set low_memory=False.\n",
      "  df = pd.read_csv(currentFile, sep = sniff.delimiter, names = head_insert, encoding = \"utf-8\")\n"
     ]
    },
    {
     "name": "stdout",
     "output_type": "stream",
     "text": [
      "Completed Cleaning. Please god work.\n"
     ]
    },
    {
     "name": "stderr",
     "output_type": "stream",
     "text": [
      "100%|██████████| 1/1 [00:00<?, ?it/s]\n",
      "C:\\Users\\aidan\\AppData\\Local\\Temp\\ipykernel_6780\\1994732405.py:34: DtypeWarning: Columns (33) have mixed types. Specify dtype option on import or set low_memory=False.\n",
      "  df = pd.read_csv(currentFile, sep = sniff.delimiter, names = head_insert, encoding = \"utf-8\")\n"
     ]
    },
    {
     "name": "stdout",
     "output_type": "stream",
     "text": [
      "Completed Cleaning. Please god work.\n"
     ]
    },
    {
     "name": "stderr",
     "output_type": "stream",
     "text": [
      "100%|██████████| 1/1 [00:00<?, ?it/s]\n",
      "C:\\Users\\aidan\\AppData\\Local\\Temp\\ipykernel_6780\\1994732405.py:34: DtypeWarning: Columns (42) have mixed types. Specify dtype option on import or set low_memory=False.\n",
      "  df = pd.read_csv(currentFile, sep = sniff.delimiter, names = head_insert, encoding = \"utf-8\")\n"
     ]
    },
    {
     "name": "stdout",
     "output_type": "stream",
     "text": [
      "Completed Cleaning. Please god work.\n"
     ]
    },
    {
     "name": "stderr",
     "output_type": "stream",
     "text": [
      "100%|██████████| 1/1 [00:00<00:00, 898.91it/s]\n",
      "C:\\Users\\aidan\\AppData\\Local\\Temp\\ipykernel_6780\\1994732405.py:34: DtypeWarning: Columns (33) have mixed types. Specify dtype option on import or set low_memory=False.\n",
      "  df = pd.read_csv(currentFile, sep = sniff.delimiter, names = head_insert, encoding = \"utf-8\")\n"
     ]
    },
    {
     "name": "stdout",
     "output_type": "stream",
     "text": [
      "Completed Cleaning. Please god work.\n"
     ]
    },
    {
     "name": "stderr",
     "output_type": "stream",
     "text": [
      "100%|██████████| 1/1 [00:00<?, ?it/s]\n",
      "C:\\Users\\aidan\\AppData\\Local\\Temp\\ipykernel_6780\\1994732405.py:34: DtypeWarning: Columns (33,42) have mixed types. Specify dtype option on import or set low_memory=False.\n",
      "  df = pd.read_csv(currentFile, sep = sniff.delimiter, names = head_insert, encoding = \"utf-8\")\n"
     ]
    },
    {
     "name": "stdout",
     "output_type": "stream",
     "text": [
      "Completed Cleaning. Please god work.\n"
     ]
    },
    {
     "name": "stderr",
     "output_type": "stream",
     "text": [
      "100%|██████████| 1/1 [00:00<?, ?it/s]\n",
      "C:\\Users\\aidan\\AppData\\Local\\Temp\\ipykernel_6780\\1994732405.py:34: DtypeWarning: Columns (33) have mixed types. Specify dtype option on import or set low_memory=False.\n",
      "  df = pd.read_csv(currentFile, sep = sniff.delimiter, names = head_insert, encoding = \"utf-8\")\n"
     ]
    },
    {
     "name": "stdout",
     "output_type": "stream",
     "text": [
      "Completed Cleaning. Please god work.\n"
     ]
    },
    {
     "name": "stderr",
     "output_type": "stream",
     "text": [
      "100%|██████████| 1/1 [00:00<?, ?it/s]\n",
      "C:\\Users\\aidan\\AppData\\Local\\Temp\\ipykernel_6780\\1994732405.py:34: DtypeWarning: Columns (33,42) have mixed types. Specify dtype option on import or set low_memory=False.\n",
      "  df = pd.read_csv(currentFile, sep = sniff.delimiter, names = head_insert, encoding = \"utf-8\")\n"
     ]
    },
    {
     "name": "stdout",
     "output_type": "stream",
     "text": [
      "Completed Cleaning. Please god work.\n"
     ]
    },
    {
     "name": "stderr",
     "output_type": "stream",
     "text": [
      "100%|██████████| 1/1 [00:00<?, ?it/s]\n",
      "C:\\Users\\aidan\\AppData\\Local\\Temp\\ipykernel_6780\\1994732405.py:34: DtypeWarning: Columns (33) have mixed types. Specify dtype option on import or set low_memory=False.\n",
      "  df = pd.read_csv(currentFile, sep = sniff.delimiter, names = head_insert, encoding = \"utf-8\")\n"
     ]
    },
    {
     "name": "stdout",
     "output_type": "stream",
     "text": [
      "Completed Cleaning. Please god work.\n"
     ]
    },
    {
     "name": "stderr",
     "output_type": "stream",
     "text": [
      "100%|██████████| 1/1 [00:00<?, ?it/s]\n",
      "C:\\Users\\aidan\\AppData\\Local\\Temp\\ipykernel_6780\\1994732405.py:34: DtypeWarning: Columns (33,42) have mixed types. Specify dtype option on import or set low_memory=False.\n",
      "  df = pd.read_csv(currentFile, sep = sniff.delimiter, names = head_insert, encoding = \"utf-8\")\n"
     ]
    },
    {
     "name": "stdout",
     "output_type": "stream",
     "text": [
      "Completed Cleaning. Please god work.\n"
     ]
    },
    {
     "name": "stderr",
     "output_type": "stream",
     "text": [
      "100%|██████████| 1/1 [00:00<?, ?it/s]\n",
      "C:\\Users\\aidan\\AppData\\Local\\Temp\\ipykernel_6780\\1994732405.py:34: DtypeWarning: Columns (33) have mixed types. Specify dtype option on import or set low_memory=False.\n",
      "  df = pd.read_csv(currentFile, sep = sniff.delimiter, names = head_insert, encoding = \"utf-8\")\n"
     ]
    },
    {
     "name": "stdout",
     "output_type": "stream",
     "text": [
      "Completed Cleaning. Please god work.\n"
     ]
    },
    {
     "name": "stderr",
     "output_type": "stream",
     "text": [
      "100%|██████████| 1/1 [00:00<00:00, 1095.12it/s]\n",
      "C:\\Users\\aidan\\AppData\\Local\\Temp\\ipykernel_6780\\1994732405.py:34: DtypeWarning: Columns (33,42) have mixed types. Specify dtype option on import or set low_memory=False.\n",
      "  df = pd.read_csv(currentFile, sep = sniff.delimiter, names = head_insert, encoding = \"utf-8\")\n"
     ]
    },
    {
     "name": "stdout",
     "output_type": "stream",
     "text": [
      "Completed Cleaning. Please god work.\n"
     ]
    },
    {
     "name": "stderr",
     "output_type": "stream",
     "text": [
      "100%|██████████| 1/1 [00:00<00:00, 1107.55it/s]\n",
      "C:\\Users\\aidan\\AppData\\Local\\Temp\\ipykernel_6780\\1994732405.py:34: DtypeWarning: Columns (33) have mixed types. Specify dtype option on import or set low_memory=False.\n",
      "  df = pd.read_csv(currentFile, sep = sniff.delimiter, names = head_insert, encoding = \"utf-8\")\n"
     ]
    },
    {
     "name": "stdout",
     "output_type": "stream",
     "text": [
      "Completed Cleaning. Please god work.\n"
     ]
    },
    {
     "name": "stderr",
     "output_type": "stream",
     "text": [
      "100%|██████████| 1/1 [00:00<?, ?it/s]\n",
      "C:\\Users\\aidan\\AppData\\Local\\Temp\\ipykernel_6780\\1994732405.py:34: DtypeWarning: Columns (42) have mixed types. Specify dtype option on import or set low_memory=False.\n",
      "  df = pd.read_csv(currentFile, sep = sniff.delimiter, names = head_insert, encoding = \"utf-8\")\n"
     ]
    },
    {
     "name": "stdout",
     "output_type": "stream",
     "text": [
      "Completed Cleaning. Please god work.\n"
     ]
    },
    {
     "name": "stderr",
     "output_type": "stream",
     "text": [
      "100%|██████████| 1/1 [00:00<00:00, 986.90it/s]\n",
      "C:\\Users\\aidan\\AppData\\Local\\Temp\\ipykernel_6780\\1994732405.py:34: DtypeWarning: Columns (33,43) have mixed types. Specify dtype option on import or set low_memory=False.\n",
      "  df = pd.read_csv(currentFile, sep = sniff.delimiter, names = head_insert, encoding = \"utf-8\")\n"
     ]
    },
    {
     "name": "stdout",
     "output_type": "stream",
     "text": [
      "Completed Cleaning. Please god work.\n"
     ]
    },
    {
     "name": "stderr",
     "output_type": "stream",
     "text": [
      "100%|██████████| 1/1 [00:00<?, ?it/s]\n"
     ]
    },
    {
     "name": "stdout",
     "output_type": "stream",
     "text": [
      "Completed Cleaning. Please god work.\n"
     ]
    },
    {
     "name": "stderr",
     "output_type": "stream",
     "text": [
      "100%|██████████| 1/1 [00:00<?, ?it/s]\n",
      "C:\\Users\\aidan\\AppData\\Local\\Temp\\ipykernel_6780\\1994732405.py:34: DtypeWarning: Columns (33,43) have mixed types. Specify dtype option on import or set low_memory=False.\n",
      "  df = pd.read_csv(currentFile, sep = sniff.delimiter, names = head_insert, encoding = \"utf-8\")\n"
     ]
    },
    {
     "name": "stdout",
     "output_type": "stream",
     "text": [
      "Completed Cleaning. Please god work.\n"
     ]
    },
    {
     "name": "stderr",
     "output_type": "stream",
     "text": [
      "100%|██████████| 1/1 [00:00<?, ?it/s]\n",
      "C:\\Users\\aidan\\AppData\\Local\\Temp\\ipykernel_6780\\1994732405.py:34: DtypeWarning: Columns (43) have mixed types. Specify dtype option on import or set low_memory=False.\n",
      "  df = pd.read_csv(currentFile, sep = sniff.delimiter, names = head_insert, encoding = \"utf-8\")\n"
     ]
    },
    {
     "name": "stdout",
     "output_type": "stream",
     "text": [
      "Completed Cleaning. Please god work.\n"
     ]
    },
    {
     "name": "stderr",
     "output_type": "stream",
     "text": [
      "100%|██████████| 1/1 [00:00<00:00, 945.09it/s]\n",
      "C:\\Users\\aidan\\AppData\\Local\\Temp\\ipykernel_6780\\1994732405.py:34: DtypeWarning: Columns (33,43) have mixed types. Specify dtype option on import or set low_memory=False.\n",
      "  df = pd.read_csv(currentFile, sep = sniff.delimiter, names = head_insert, encoding = \"utf-8\")\n"
     ]
    },
    {
     "name": "stdout",
     "output_type": "stream",
     "text": [
      "Completed Cleaning. Please god work.\n"
     ]
    },
    {
     "name": "stderr",
     "output_type": "stream",
     "text": [
      "100%|██████████| 1/1 [00:00<?, ?it/s]\n"
     ]
    },
    {
     "name": "stdout",
     "output_type": "stream",
     "text": [
      "Completed Cleaning. Please god work.\n"
     ]
    },
    {
     "name": "stderr",
     "output_type": "stream",
     "text": [
      "100%|██████████| 1/1 [00:00<?, ?it/s]\n"
     ]
    },
    {
     "name": "stdout",
     "output_type": "stream",
     "text": [
      "Completed Cleaning. Please god work.\n"
     ]
    },
    {
     "name": "stderr",
     "output_type": "stream",
     "text": [
      "100%|██████████| 1/1 [00:00<?, ?it/s]\n"
     ]
    },
    {
     "name": "stdout",
     "output_type": "stream",
     "text": [
      "Completed Cleaning. Please god work.\n"
     ]
    },
    {
     "name": "stderr",
     "output_type": "stream",
     "text": [
      "100%|██████████| 1/1 [00:00<?, ?it/s]\n"
     ]
    },
    {
     "name": "stdout",
     "output_type": "stream",
     "text": [
      "Completed Cleaning. Please god work.\n"
     ]
    },
    {
     "name": "stderr",
     "output_type": "stream",
     "text": [
      "100%|██████████| 1/1 [00:00<?, ?it/s]\n"
     ]
    },
    {
     "name": "stdout",
     "output_type": "stream",
     "text": [
      "Completed Cleaning. Please god work.\n"
     ]
    },
    {
     "name": "stderr",
     "output_type": "stream",
     "text": [
      "100%|██████████| 1/1 [00:00<?, ?it/s]\n"
     ]
    },
    {
     "name": "stdout",
     "output_type": "stream",
     "text": [
      "Completed Cleaning. Please god work.\n"
     ]
    },
    {
     "name": "stderr",
     "output_type": "stream",
     "text": [
      "100%|██████████| 1/1 [00:00<?, ?it/s]\n"
     ]
    },
    {
     "name": "stdout",
     "output_type": "stream",
     "text": [
      "Completed Cleaning. Please god work.\n"
     ]
    },
    {
     "name": "stderr",
     "output_type": "stream",
     "text": [
      "100%|██████████| 1/1 [00:00<?, ?it/s]\n"
     ]
    },
    {
     "name": "stdout",
     "output_type": "stream",
     "text": [
      "Completed Cleaning. Please god work.\n"
     ]
    },
    {
     "name": "stderr",
     "output_type": "stream",
     "text": [
      "100%|██████████| 1/1 [00:00<?, ?it/s]\n"
     ]
    },
    {
     "name": "stdout",
     "output_type": "stream",
     "text": [
      "Completed Cleaning. Please god work.\n"
     ]
    },
    {
     "name": "stderr",
     "output_type": "stream",
     "text": [
      "100%|██████████| 1/1 [00:00<?, ?it/s]\n",
      "C:\\Users\\aidan\\AppData\\Local\\Temp\\ipykernel_6780\\1994732405.py:34: DtypeWarning: Columns (18,36,37,41,43,44,48) have mixed types. Specify dtype option on import or set low_memory=False.\n",
      "  df = pd.read_csv(currentFile, sep = sniff.delimiter, names = head_insert, encoding = \"utf-8\")\n"
     ]
    },
    {
     "name": "stdout",
     "output_type": "stream",
     "text": [
      "Completed Cleaning. Please god work.\n"
     ]
    },
    {
     "name": "stderr",
     "output_type": "stream",
     "text": [
      "100%|██████████| 1/1 [00:00<?, ?it/s]\n"
     ]
    },
    {
     "name": "stdout",
     "output_type": "stream",
     "text": [
      "Completed Cleaning. Please god work.\n"
     ]
    },
    {
     "name": "stderr",
     "output_type": "stream",
     "text": [
      "100%|██████████| 1/1 [00:00<?, ?it/s]\n"
     ]
    },
    {
     "name": "stdout",
     "output_type": "stream",
     "text": [
      "Completed Cleaning. Please god work.\n"
     ]
    },
    {
     "name": "stderr",
     "output_type": "stream",
     "text": [
      "100%|██████████| 1/1 [00:00<?, ?it/s]\n"
     ]
    },
    {
     "name": "stdout",
     "output_type": "stream",
     "text": [
      "Completed Cleaning. Please god work.\n"
     ]
    },
    {
     "name": "stderr",
     "output_type": "stream",
     "text": [
      "100%|██████████| 1/1 [00:00<?, ?it/s]\n"
     ]
    },
    {
     "name": "stdout",
     "output_type": "stream",
     "text": [
      "Completed Cleaning. Please god work.\n"
     ]
    },
    {
     "name": "stderr",
     "output_type": "stream",
     "text": [
      "100%|██████████| 1/1 [00:00<?, ?it/s]\n"
     ]
    },
    {
     "name": "stdout",
     "output_type": "stream",
     "text": [
      "Completed Cleaning. Please god work.\n"
     ]
    },
    {
     "name": "stderr",
     "output_type": "stream",
     "text": [
      "100%|██████████| 1/1 [00:00<?, ?it/s]\n",
      "C:\\Users\\aidan\\AppData\\Local\\Temp\\ipykernel_6780\\1994732405.py:34: DtypeWarning: Columns (18,36,37,41,43,44,48) have mixed types. Specify dtype option on import or set low_memory=False.\n",
      "  df = pd.read_csv(currentFile, sep = sniff.delimiter, names = head_insert, encoding = \"utf-8\")\n"
     ]
    },
    {
     "name": "stdout",
     "output_type": "stream",
     "text": [
      "Completed Cleaning. Please god work.\n"
     ]
    },
    {
     "name": "stderr",
     "output_type": "stream",
     "text": [
      "100%|██████████| 1/1 [00:00<00:00, 980.89it/s]\n"
     ]
    },
    {
     "name": "stdout",
     "output_type": "stream",
     "text": [
      "Completed Cleaning. Please god work.\n"
     ]
    },
    {
     "name": "stderr",
     "output_type": "stream",
     "text": [
      "100%|██████████| 1/1 [00:00<?, ?it/s]\n",
      "C:\\Users\\aidan\\AppData\\Local\\Temp\\ipykernel_6780\\1994732405.py:34: DtypeWarning: Columns (18,36,37,41,43,44,48) have mixed types. Specify dtype option on import or set low_memory=False.\n",
      "  df = pd.read_csv(currentFile, sep = sniff.delimiter, names = head_insert, encoding = \"utf-8\")\n"
     ]
    },
    {
     "name": "stdout",
     "output_type": "stream",
     "text": [
      "Completed Cleaning. Please god work.\n"
     ]
    },
    {
     "name": "stderr",
     "output_type": "stream",
     "text": [
      "100%|██████████| 1/1 [00:00<?, ?it/s]\n",
      "C:\\Users\\aidan\\AppData\\Local\\Temp\\ipykernel_6780\\1994732405.py:34: DtypeWarning: Columns (18,36,37,41,43,44,48) have mixed types. Specify dtype option on import or set low_memory=False.\n",
      "  df = pd.read_csv(currentFile, sep = sniff.delimiter, names = head_insert, encoding = \"utf-8\")\n"
     ]
    },
    {
     "name": "stdout",
     "output_type": "stream",
     "text": [
      "Completed Cleaning. Please god work.\n"
     ]
    },
    {
     "name": "stderr",
     "output_type": "stream",
     "text": [
      "100%|██████████| 1/1 [00:00<00:00, 999.12it/s]\n",
      "C:\\Users\\aidan\\AppData\\Local\\Temp\\ipykernel_6780\\1994732405.py:34: DtypeWarning: Columns (18,36,37,41,43,44,48) have mixed types. Specify dtype option on import or set low_memory=False.\n",
      "  df = pd.read_csv(currentFile, sep = sniff.delimiter, names = head_insert, encoding = \"utf-8\")\n"
     ]
    },
    {
     "name": "stdout",
     "output_type": "stream",
     "text": [
      "Completed Cleaning. Please god work.\n"
     ]
    },
    {
     "name": "stderr",
     "output_type": "stream",
     "text": [
      "100%|██████████| 1/1 [00:00<00:00, 909.83it/s]\n",
      "C:\\Users\\aidan\\AppData\\Local\\Temp\\ipykernel_6780\\1994732405.py:34: DtypeWarning: Columns (18,36,37,41,43,44,48) have mixed types. Specify dtype option on import or set low_memory=False.\n",
      "  df = pd.read_csv(currentFile, sep = sniff.delimiter, names = head_insert, encoding = \"utf-8\")\n"
     ]
    },
    {
     "name": "stdout",
     "output_type": "stream",
     "text": [
      "Completed Cleaning. Please god work.\n"
     ]
    },
    {
     "name": "stderr",
     "output_type": "stream",
     "text": [
      "100%|██████████| 1/1 [00:00<?, ?it/s]\n"
     ]
    },
    {
     "name": "stdout",
     "output_type": "stream",
     "text": [
      "Completed Cleaning. Please god work.\n"
     ]
    },
    {
     "name": "stderr",
     "output_type": "stream",
     "text": [
      "100%|██████████| 1/1 [00:00<?, ?it/s]\n",
      "C:\\Users\\aidan\\AppData\\Local\\Temp\\ipykernel_6780\\1994732405.py:34: DtypeWarning: Columns (18,36,37,41,43,44,48) have mixed types. Specify dtype option on import or set low_memory=False.\n",
      "  df = pd.read_csv(currentFile, sep = sniff.delimiter, names = head_insert, encoding = \"utf-8\")\n"
     ]
    },
    {
     "name": "stdout",
     "output_type": "stream",
     "text": [
      "Completed Cleaning. Please god work.\n"
     ]
    },
    {
     "name": "stderr",
     "output_type": "stream",
     "text": [
      "100%|██████████| 1/1 [00:00<00:00, 1003.66it/s]\n",
      "C:\\Users\\aidan\\AppData\\Local\\Temp\\ipykernel_6780\\1994732405.py:34: DtypeWarning: Columns (18,36,37,41,43,44,48) have mixed types. Specify dtype option on import or set low_memory=False.\n",
      "  df = pd.read_csv(currentFile, sep = sniff.delimiter, names = head_insert, encoding = \"utf-8\")\n"
     ]
    },
    {
     "name": "stdout",
     "output_type": "stream",
     "text": [
      "Completed Cleaning. Please god work.\n"
     ]
    },
    {
     "name": "stderr",
     "output_type": "stream",
     "text": [
      "100%|██████████| 1/1 [00:00<?, ?it/s]\n"
     ]
    }
   ],
   "source": [
    "for zip in zipperDown:\n",
    "    with ZipFile(\"\\\\Users\\\\aidan\\\\OneDrive\\\\Desktop\\\\MSBA_F22\\\\ADA\\\\DBs\\\\WedgeZipOfZips\\\\\" + zip, 'r') as zF:\n",
    "        zip_files = zF.namelist()\n",
    "      \n",
    "        for zipped in zip_files:\n",
    "            currentFile = zF.open(zipped,'r')\n",
    "            currentFile = io.TextIOWrapper(currentFile, encoding = \"utf-8\")\n",
    "        \n",
    "            sniff = csv.Sniffer().sniff(sample = currentFile.readline())\n",
    "\n",
    "            for row in currentFile:\n",
    "                if row[0] == \"d\" or row[0:2] == \"d\":\n",
    "                    df = pd.read_csv(currentFile, sep = sniff.delimiter, encoding = \"utf-8\")\n",
    "                    \n",
    "                else:\n",
    "                    df = pd.read_csv(currentFile, sep = sniff.delimiter, names = head_insert, encoding = \"utf-8\")\n",
    "            df = janitor.clean_names(df)\n",
    "            \n",
    "            for column in df:\n",
    "                df[column] = df[column].replace('\\\\N',0)\n",
    "\n",
    "            df['datetime'] = pd.to_datetime(df['datetime'],format='%Y-%m-%d %H:%M:%S')\n",
    "            df['altprice'] = df['altprice'].astype(str)\n",
    "            df['local'] = df['local'].fillna(0)\n",
    "            df['local'] = df['local'].replace('\\\\N',0)\n",
    "            df['local'] = df['local'].astype(int)\n",
    "            df['register_no'] = df['register_no'].astype(int)\n",
    "            df['emp_no'] = df['emp_no'].astype(int)\n",
    "            df['trans_no'] = df['trans_no'].astype(int)\n",
    "            df['upc'] = df['upc'].astype(str)\n",
    "            df['description'] = df['description'].astype(str)\n",
    "            df['trans_type'] = df['trans_type'].astype(str)\n",
    "            df['trans_subtype'] = df['trans_subtype'].astype(str)\n",
    "            df['trans_status'] = df['trans_status'].astype(str)\n",
    "            df['department'] = df['department'].astype(int)\n",
    "            df['quantity'] = df['quantity'].astype(float)\n",
    "            df['scale'] = df['scale'].astype(int)\n",
    "            df['cost'] = df['cost'].astype(float)\n",
    "            df['unitprice'] = df['unitprice'].astype(float)\n",
    "            df['total'] = df['total'].astype(float)\n",
    "            df['regprice'] = df['regprice'].astype(str)\n",
    "            \n",
    "            df['tax'] = df['tax'].astype(float)\n",
    "            df['taxexempt'] = df['taxexempt'].astype(float)\n",
    "            df['foodstamp'] = df['foodstamp'].astype(float)\n",
    "            df['wicable'] = df['wicable'].astype(float)\n",
    "            df['discount'] = df['discount'].astype(float)\n",
    "            df['memdiscount'] = df['memdiscount'].astype(float)\n",
    "            df['discountable'] = df['discountable'].astype(float)\n",
    "            df['discounttype'] = df['discounttype'].astype(float)\n",
    "            df['voided'] = df['voided'].astype(float)\n",
    "            df['percentdiscount'] = df['percentdiscount'].astype(float)\n",
    "            df['itemqtty'] = df['itemqtty'].astype(float)\n",
    "            df['voldiscype'] = df['voldisctype'].astype(float)\n",
    "            df['volume'] = df['volume'].astype(float)\n",
    "            df['volspecial'] = df['volspecial'].astype(float)\n",
    "            df['mixmatch'] = df['mixmatch'].astype(float)\n",
    "            df['matched'] = df['matched'].astype(float)\n",
    "            df['memtype'] = df['memtype'].astype(bool)\n",
    "            df['staff'] = df['staff'].astype(bool)\n",
    "            df['numflag'] = df['numflag'].astype(float)\n",
    "            df['itemstatus'] = df['itemstatus'].astype(str)\n",
    "            df['tenderstatus'] = df['tenderstatus'].astype(float)\n",
    "            df['charflag'] = df['charflag'].astype(str)\n",
    "            df['varflag'] = df['varflag'].astype(float)\n",
    "            df['batchheaderid'] = df['batchheaderid'].astype(bool)\n",
    "            df['organic'] = df['organic'].astype(str)\n",
    "            df['display'] = df['display'].astype(bool)\n",
    "            df['receipt'] = df['receipt'].astype(float)\n",
    "            df['card_no'] = df['card_no'].astype(int)\n",
    "            df['store'] = df['store'].astype(float)\n",
    "            df['branch'] = df['branch'].astype(float)\n",
    "            df['match_id'] = df['match_id'].astype(float)\n",
    "            df['trans_id'] = df['trans_id'].astype(float)\n",
    "            \n",
    "            for column in df:\n",
    "                \n",
    "                if df[column].dtypes == object:\n",
    "                    df = df.astype({column: 'str'})\n",
    "                if df[column].dtypes == str:\n",
    "                    df[column] = df[column].replace(np.nan,'',regex=True)\n",
    "                    df[column] = df[column].replace('nan','',regex=True)\n",
    "                \n",
    "                if df[column].dtypes == int:\n",
    "                    df[column] = df[column].fillna(0)\n",
    "                    df[column] = df[column].replace('\\\\N',0)\n",
    "                    df[column] = df[column].astype(int)\n",
    "                if df[column].dtypes == float:\n",
    "                    df[column] = df[column].fillna(0)\n",
    "                    df[column] = df[column].replace('\\\\N',0)\n",
    "                    df[column] = df[column].astype(float)\n",
    "            \n",
    "            tempTuple = os.path.splitext(zipped)\n",
    "\n",
    "            filename = tempTuple[0]\n",
    "            \n",
    "            table_id = \".\".join([gbq_proj_id,dataset_,filename])\n",
    "            client.delete_table(table_id, not_found_ok=True)\n",
    "            pandas_gbq.to_gbq(df, table_id, project_id= 'bigquerywagers',if_exists=\"replace\")"
   ]
  }
 ],
 "metadata": {
  "kernelspec": {
   "display_name": "Python 3 (ipykernel)",
   "language": "python",
   "name": "python3"
  },
  "language_info": {
   "codemirror_mode": {
    "name": "ipython",
    "version": 3
   },
   "file_extension": ".py",
   "mimetype": "text/x-python",
   "name": "python",
   "nbconvert_exporter": "python",
   "pygments_lexer": "ipython3",
   "version": "3.9.7"
  }
 },
 "nbformat": 4,
 "nbformat_minor": 5
}
