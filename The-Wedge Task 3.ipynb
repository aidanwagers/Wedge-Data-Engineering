{
 "cells": [
  {
   "cell_type": "markdown",
   "id": "d0cce5e7",
   "metadata": {},
   "source": [
    "# Setup"
   ]
  },
  {
   "cell_type": "code",
   "execution_count": 1,
   "id": "b5b2b868",
   "metadata": {},
   "outputs": [],
   "source": [
    "import pandas as pd\n",
    "from zipfile import ZipFile\n",
    "import os\n",
    "import csv\n",
    "import janitor\n",
    "import pandas_gbq\n",
    "import numpy as np\n",
    "import re\n",
    "import io\n",
    "from google.cloud import bigquery\n",
    "from google.oauth2 import service_account\n",
    "import sqlite3"
   ]
  },
  {
   "cell_type": "code",
   "execution_count": 2,
   "id": "9f49c495",
   "metadata": {},
   "outputs": [
    {
     "name": "stdout",
     "output_type": "stream",
     "text": [
      "bigquerywagers:Wedge_B_level\n",
      "bigquerywagers:Wedge_Wagers\n",
      "bigquerywagers:Wedge_clean\n",
      "bigquerywagers:dram_shop\n",
      "bigquerywagers:umt_msba_aw\n"
     ]
    }
   ],
   "source": [
    "service_path = \"\\\\Users\\\\aidan\\\\OneDrive\\\\Desktop\\\\MSBA_F22\\\\ADA\\\\\"\n",
    "service_file = 'placeholder-9bb4f6c64d82.json'   \n",
    "gbq_proj_id = 'placeholder' \n",
    " \n",
    "private_key =service_path + service_file\n",
    "credentials = service_account.Credentials.from_service_account_file(service_path + service_file)\n",
    "client = bigquery.Client(credentials = credentials, project=gbq_proj_id)"
   ]
  },
  {
   "cell_type": "markdown",
   "id": "f4fd0851",
   "metadata": {},
   "source": [
    "# Query 1: Sales by Date by Hour"
   ]
  },
  {
   "cell_type": "code",
   "execution_count": 3,
   "id": "d248957d",
   "metadata": {},
   "outputs": [
    {
     "name": "stderr",
     "output_type": "stream",
     "text": [
      "Downloading: 100%|██████████| 39420/39420 [00:01<00:00, 20016.20rows/s]\n"
     ]
    }
   ],
   "source": [
    "query = \"\"\"\n",
    "    SELECT \n",
    "    Extract(Date from datetime) as date,\n",
    "    Extract(HOUR FROM datetime) as hour,\n",
    "    sum(total) as total_spend,\n",
    "    count(distinct(concat(trans_no,Extract(Date from datetime),register_no,emp_no))) AS num_trans\n",
    "    FROM `placeholder.Wedge_Wagers.tran*` \n",
    "    GROUP BY Hour, date\n",
    "    ORDER BY total_spend DESC\n",
    "\"\"\"\n",
    "\n",
    "Sales_Date_Hour = pandas_gbq.read_gbq(query,project_id = 'placeholder')\n",
    "\n",
    "Sales_Date_Hour.to_csv('sales_date_hour.csv', index = False, encoding = 'utf-8')"
   ]
  },
  {
   "cell_type": "markdown",
   "id": "07ad4807",
   "metadata": {},
   "source": [
    "# Query 2: Sales by Owner x Year x Month"
   ]
  },
  {
   "cell_type": "code",
   "execution_count": 4,
   "id": "a15fe825",
   "metadata": {},
   "outputs": [
    {
     "name": "stderr",
     "output_type": "stream",
     "text": [
      "Downloading: 100%|██████████| 810208/810208 [00:31<00:00, 25450.85rows/s]\n"
     ]
    }
   ],
   "source": [
    "query = \"\"\"\n",
    "    SELECT \n",
    "    card_no,\n",
    "    EXTRACT(YEAR FROM datetime) AS `year`,\n",
    "    EXTRACT(MONTH FROM datetime) AS `month`,\n",
    "    sum(abs(total)) AS `sales`,\n",
    "    COUNT(DISTINCT((CONCAT(CAST(EXTRACT(DATE from datetime)AS STRING),CAST(register_no AS String), CAST(trans_no AS String),CAST(emp_no AS String))))) AS `transactions`,\n",
    "    sum(CASE WHEN trans_status in ('V','R') then -1 else 1 end) AS `items`\n",
    "    FROM `bigquerywagers.Wedge_Wagers.transArchiv*`\n",
    "    GROUP BY card_no,year, month\n",
    "    ORDER BY year, month ASC\n",
    "\"\"\"\n",
    "\n",
    "owner_year_month = pandas_gbq.read_gbq(query,project_id = 'placeholder')\n",
    "\n",
    "owner_year_month.to_csv('owner_year_month.csv', index = False, encoding = 'utf-8')"
   ]
  },
  {
   "cell_type": "markdown",
   "id": "d46cb389",
   "metadata": {},
   "source": [
    "# Query 3: Sales by desc x year x month"
   ]
  },
  {
   "cell_type": "code",
   "execution_count": 11,
   "id": "fd575288",
   "metadata": {},
   "outputs": [
    {
     "name": "stderr",
     "output_type": "stream",
     "text": [
      "Downloading: 100%|██████████| 1214098/1214098 [01:18<00:00, 15502.96rows/s]\n"
     ]
    }
   ],
   "source": [
    "threequery = \"\"\"\n",
    "    SELECT al.department as `department_number`,\n",
    "    dl.dept_name as `department_name`,\n",
    "    al.upc AS `upc`,\n",
    "    al.description AS `description`,\n",
    "    EXTRACT(YEAR FROM datetime) AS `year`,\n",
    "    EXTRACT(MONTH FROM datetime) AS `month`,\n",
    "    sum(abs(al.total)) AS `sales`,\n",
    "    COUNT(DISTINCT((CONCAT(CAST(EXTRACT(DATE from datetime)AS STRING),CAST(al.register_no AS String), CAST(al.trans_no AS String),CAST(al.emp_no AS String))))) AS `transactions`,\n",
    "    sum(CASE WHEN trans_status in ('V','R') then -1 else 1 end) AS `items`\n",
    "    FROM `bigquerywagers.Wedge_Wagers.transArchiv*` as al\n",
    "    INNER JOIN `bigquerywagers.Wedge_Wagers.depLook` as dl on al.department = dl.department\n",
    "    GROUP BY al.description, year, month, upc, al.department, dept_name\n",
    "    ORDER BY year, month ASC\n",
    "\"\"\"\n",
    "\n",
    "desc_year_month = pandas_gbq.read_gbq(threequery,project_id = 'placeholder')\n",
    "\n",
    "desc_year_month.to_csv('desc_year_month.csv', index = False, sep = \"\\t\", encoding = 'utf-8')"
   ]
  },
  {
   "cell_type": "markdown",
   "id": "38fd6b7e",
   "metadata": {},
   "source": [
    "# SQLite Upload"
   ]
  },
  {
   "cell_type": "code",
   "execution_count": 12,
   "id": "7e73cd7a",
   "metadata": {},
   "outputs": [],
   "source": [
    "db = sqlite3.connect(\"wedge_wagers.db\")\n",
    "cur = db.cursor()\n",
    "\n",
    "#Create and fill First\n",
    "cur.execute('''DROP TABLE IF EXISTS sales_date_hour''')\n",
    "cur.execute('''CREATE TABLE sales_date_hour (\n",
    "    date DATE, \n",
    "    hour INTEGER, \n",
    "    total_spend REAL,\n",
    "    num_trans REAL)''')\n",
    "\n",
    "input_list = []\n",
    "with open(\"sales_date_hour.csv\",'r') as infile :\n",
    "    next(infile)\n",
    "\n",
    "    for line in infile :\n",
    "        line = line.strip().split(\",\")\n",
    "        input_list.append(line)\n",
    "\n",
    "cur.executemany('''INSERT INTO sales_date_hour(date,hour,total_spend,num_trans) \n",
    "                   VALUES (?,?,?,?)''',input_list)\n",
    "\n",
    "#Create and fill Second\n",
    "cur.execute('''DROP TABLE IF EXISTS owner_year_month''')\n",
    "cur.execute('''CREATE TABLE owner_year_month (\n",
    "    card_no INTEGER, \n",
    "    year INTEGER, \n",
    "    month INTEGER,\n",
    "    sales REAL,\n",
    "    transactions REAL,\n",
    "    items INTEGER)''')\n",
    "\n",
    "oym_list = []\n",
    "with open(\"owner_year_month.csv\",'r') as infile :\n",
    "    next(infile)\n",
    "\n",
    "    for line in infile :\n",
    "        line = line.strip().split(\",\")\n",
    "        oym_list.append(line)\n",
    "\n",
    "cur.executemany('''INSERT INTO owner_year_month(card_no,year,month,sales,transactions,items) \n",
    "                   VALUES (?,?,?,?,?,?)''',oym_list)\n",
    "\n",
    "#Create and fill Third\n",
    "cur.execute('''DROP TABLE IF EXISTS desc_year_month''')\n",
    "cur.execute('''CREATE TABLE desc_year_month (\n",
    "    department_number INTEGER, \n",
    "    department_name TEXT, \n",
    "    upc INTEGER,\n",
    "    description TEXT,\n",
    "    year INTEGER,\n",
    "    month INTEGER,\n",
    "    sales REAL,\n",
    "    transactions REAL,\n",
    "    items INTEGER)''')\n",
    "\n",
    "dym_list = []\n",
    "with open(\"desc_year_month.csv\",'r') as infile :\n",
    "    next(infile)\n",
    "\n",
    "    for line in infile :\n",
    "        line = line.strip().split(\"\\t\")\n",
    "        \n",
    "        \n",
    "        dym_list.append(line)\n",
    "        \n",
    "\n",
    "cur.executemany('''INSERT INTO desc_year_month(department_number,department_name,upc,description,year,month,sales,transactions,items) \n",
    "                   VALUES (?,?,?,?,?,?,?,?,?)''',dym_list)\n",
    "\n",
    "db.commit()"
   ]
  }
 ],
 "metadata": {
  "kernelspec": {
   "display_name": "Python 3 (ipykernel)",
   "language": "python",
   "name": "python3"
  },
  "language_info": {
   "codemirror_mode": {
    "name": "ipython",
    "version": 3
   },
   "file_extension": ".py",
   "mimetype": "text/x-python",
   "name": "python",
   "nbconvert_exporter": "python",
   "pygments_lexer": "ipython3",
   "version": "3.9.7"
  }
 },
 "nbformat": 4,
 "nbformat_minor": 5
}
