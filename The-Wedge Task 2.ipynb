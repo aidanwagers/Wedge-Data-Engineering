{
 "cells": [
  {
   "cell_type": "markdown",
   "id": "8aa455d1",
   "metadata": {},
   "source": [
    "# Setup"
   ]
  },
  {
   "cell_type": "code",
   "execution_count": 7,
   "id": "3d350ae5",
   "metadata": {},
   "outputs": [],
   "source": [
    "import os\n",
    "import re\n",
    "import datetime \n",
    "\n",
    "import pandas as pd\n",
    "import numpy as np\n",
    "import matplotlib.pyplot as plt\n",
    "import pandas_gbq\n",
    "import janitor\n",
    "\n",
    "\n",
    "from google.cloud import bigquery\n",
    "from google.oauth2 import service_account"
   ]
  },
  {
   "cell_type": "code",
   "execution_count": 8,
   "id": "69e07fe2",
   "metadata": {},
   "outputs": [],
   "source": [
    "service_path = \"\\\\Users\\\\aidan\\\\OneDrive\\\\Desktop\\\\MSBA_F22\\\\ADA\\\\\"\n",
    "service_file = 'placeholder-9bb4f6c64d82.json' \n",
    "gbq_proj_id = 'placeholder' \n",
    "private_key =service_path + service_file"
   ]
  },
  {
   "cell_type": "code",
   "execution_count": 9,
   "id": "9ab827d6",
   "metadata": {},
   "outputs": [],
   "source": [
    "credentials = service_account.Credentials.from_service_account_file(service_path + service_file)"
   ]
  },
  {
   "cell_type": "code",
   "execution_count": 10,
   "id": "00dd3721",
   "metadata": {},
   "outputs": [],
   "source": [
    "client = bigquery.Client(credentials = credentials, project=gbq_proj_id)"
   ]
  },
  {
   "cell_type": "markdown",
   "id": "3cda0aef",
   "metadata": {},
   "source": [
    "# Query and Output"
   ]
  },
  {
   "cell_type": "code",
   "execution_count": 11,
   "id": "37a38897",
   "metadata": {},
   "outputs": [
    {
     "name": "stderr",
     "output_type": "stream",
     "text": [
      "Downloading: 100%|██████████| 533808/533808 [02:46<00:00, 3205.05rows/s]\n"
     ]
    }
   ],
   "source": [
    "query = \"\"\"\n",
    "    With CTE as (SELECT card_no\n",
    "    FROM `bigquerywagers.Wedge_Wagers.transArchive_*` \n",
    "    WHERE card_no != 3\n",
    "    GROUP BY card_no\n",
    "    ORDER BY RAND()\n",
    "    LIMIT 215)\n",
    "\n",
    "    SELECT *\n",
    "    FROM `bigquerywagers.Wedge_Wagers.transArchive_*` as table1 \n",
    "    JOIN CTE as cte on cte.card_no = table1.card_no\n",
    "\"\"\"\n",
    "\n",
    "owner_summary = pandas_gbq.read_gbq(query,project_id = 'bigquerywagers')\n",
    "\n",
    "with open('ownerSummary.txt', 'w', encoding = 'utf-8') as f:\n",
    "    dfString = owner_summary.to_string(header = True, index = False)\n",
    "    f.write(dfString)\n",
    "\n",
    "owner_summary.to_csv('ownersummary.csv', encoding = 'utf-8')"
   ]
  }
 ],
 "metadata": {
  "kernelspec": {
   "display_name": "Python 3 (ipykernel)",
   "language": "python",
   "name": "python3"
  },
  "language_info": {
   "codemirror_mode": {
    "name": "ipython",
    "version": 3
   },
   "file_extension": ".py",
   "mimetype": "text/x-python",
   "name": "python",
   "nbconvert_exporter": "python",
   "pygments_lexer": "ipython3",
   "version": "3.9.7"
  }
 },
 "nbformat": 4,
 "nbformat_minor": 5
}
